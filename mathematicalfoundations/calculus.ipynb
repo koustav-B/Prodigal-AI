{
 "cells": [
  {
   "cell_type": "code",
   "execution_count": 1,
   "id": "add1a5d2",
   "metadata": {},
   "outputs": [
    {
     "name": "stdout",
     "output_type": "stream",
     "text": [
      "f(x): x**3 + 2*x**2 + 3*x + 1\n",
      "f'(x): 3*x**2 + 4*x + 3\n",
      "f''(x): 2*(3*x + 2)\n"
     ]
    }
   ],
   "source": [
    "from sympy import symbols, diff\n",
    "\n",
    "x = symbols('x')\n",
    "f = x**3 + 2*x**2 + 3*x + 1\n",
    "\n",
    "# First derivative\n",
    "df = diff(f, x)\n",
    "\n",
    "# Second derivative\n",
    "d2f = diff(f, x, 2)\n",
    "\n",
    "print(\"f(x):\", f)\n",
    "print(\"f'(x):\", df)\n",
    "print(\"f''(x):\", d2f)\n"
   ]
  }
 ],
 "metadata": {
  "kernelspec": {
   "display_name": "base",
   "language": "python",
   "name": "python3"
  },
  "language_info": {
   "codemirror_mode": {
    "name": "ipython",
    "version": 3
   },
   "file_extension": ".py",
   "mimetype": "text/x-python",
   "name": "python",
   "nbconvert_exporter": "python",
   "pygments_lexer": "ipython3",
   "version": "3.10.9"
  }
 },
 "nbformat": 4,
 "nbformat_minor": 5
}
