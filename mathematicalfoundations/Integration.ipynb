{
 "cells": [
  {
   "cell_type": "code",
   "execution_count": 2,
   "id": "fa354c3d",
   "metadata": {},
   "outputs": [
    {
     "name": "stdout",
     "output_type": "stream",
     "text": [
      "Indefinite Integral: x**4/4 + 2*x**3/3 + 3*x**2/2 + x\n",
      "Definite Integral (0 to 2): 52/3\n"
     ]
    }
   ],
   "source": [
    "from sympy import symbols, integrate\n",
    "\n",
    "# Define symbol\n",
    "x = symbols('x')\n",
    "\n",
    "# Define function\n",
    "f = x**3 + 2*x**2 + 3*x + 1\n",
    "\n",
    "# Indefinite integral\n",
    "indef_int = integrate(f, x)\n",
    "\n",
    "# Definite integral from 0 to 2\n",
    "def_int = integrate(f, (x, 0, 2))\n",
    "\n",
    "print(\"Indefinite Integral:\", indef_int)\n",
    "print(\"Definite Integral (0 to 2):\", def_int)\n"
   ]
  }
 ],
 "metadata": {
  "kernelspec": {
   "display_name": "base",
   "language": "python",
   "name": "python3"
  },
  "language_info": {
   "codemirror_mode": {
    "name": "ipython",
    "version": 3
   },
   "file_extension": ".py",
   "mimetype": "text/x-python",
   "name": "python",
   "nbconvert_exporter": "python",
   "pygments_lexer": "ipython3",
   "version": "3.10.9"
  }
 },
 "nbformat": 4,
 "nbformat_minor": 5
}
