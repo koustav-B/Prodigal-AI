{
 "cells": [
  {
   "cell_type": "code",
   "execution_count": 13,
   "id": "293a5547",
   "metadata": {},
   "outputs": [
    {
     "name": "stdout",
     "output_type": "stream",
     "text": [
      "P(rolling a 6): 0.1692\n"
     ]
    }
   ],
   "source": [
    "import random\n",
    "\n",
    "# Probability example: rolling a die\n",
    "trials = 10000\n",
    "count = 0\n",
    "\n",
    "for _ in range(trials):\n",
    "    if random.randint(1, 6) == 6:\n",
    "        count += 1\n",
    "\n",
    "prob = count / trials\n",
    "print(\"P(rolling a 6):\", prob)\n"
   ]
  }
 ],
 "metadata": {
  "kernelspec": {
   "display_name": "base",
   "language": "python",
   "name": "python3"
  },
  "language_info": {
   "codemirror_mode": {
    "name": "ipython",
    "version": 3
   },
   "file_extension": ".py",
   "mimetype": "text/x-python",
   "name": "python",
   "nbconvert_exporter": "python",
   "pygments_lexer": "ipython3",
   "version": "3.10.9"
  }
 },
 "nbformat": 4,
 "nbformat_minor": 5
}
