{
 "cells": [
  {
   "cell_type": "code",
   "execution_count": 1,
   "id": "46be6f36",
   "metadata": {},
   "outputs": [
    {
     "name": "stdout",
     "output_type": "stream",
     "text": [
      "Addition:\n",
      " [[3 2]\n",
      " [4 7]]\n",
      "Multiplication:\n",
      " [[ 4  6]\n",
      " [10 12]]\n",
      "Transpose of A:\n",
      " [[1 3]\n",
      " [2 4]]\n",
      "Inverse of A:\n",
      " [[-2.   1. ]\n",
      " [ 1.5 -0.5]]\n"
     ]
    }
   ],
   "source": [
    "import numpy as np\n",
    "\n",
    "A = np.array([[1, 2], [3, 4]])\n",
    "B = np.array([[2, 0], [1, 3]])\n",
    "\n",
    "# Matrix addition\n",
    "add = A + B\n",
    "\n",
    "# Matrix multiplication\n",
    "mult = np.dot(A, B)\n",
    "\n",
    "# Transpose\n",
    "transpose_A = A.T\n",
    "\n",
    "# Inverse\n",
    "inv_A = np.linalg.inv(A)\n",
    "\n",
    "print(\"Addition:\\n\", add)\n",
    "print(\"Multiplication:\\n\", mult)\n",
    "print(\"Transpose of A:\\n\", transpose_A)\n",
    "print(\"Inverse of A:\\n\", inv_A)\n"
   ]
  }
 ],
 "metadata": {
  "kernelspec": {
   "display_name": "base",
   "language": "python",
   "name": "python3"
  },
  "language_info": {
   "codemirror_mode": {
    "name": "ipython",
    "version": 3
   },
   "file_extension": ".py",
   "mimetype": "text/x-python",
   "name": "python",
   "nbconvert_exporter": "python",
   "pygments_lexer": "ipython3",
   "version": "3.10.9"
  }
 },
 "nbformat": 4,
 "nbformat_minor": 5
}
